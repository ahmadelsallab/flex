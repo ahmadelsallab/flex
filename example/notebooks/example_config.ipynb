{
 "cells": [
  {
   "cell_type": "markdown",
   "metadata": {},
   "source": [
    "# Installation"
   ]
  },
  {
   "cell_type": "code",
   "execution_count": 1,
   "metadata": {},
   "outputs": [
    {
     "name": "stdout",
     "output_type": "stream",
     "text": [
      "Processing c:\\users\\aelsalla\\google drive\\postdoc\\flex\\flex\n",
      "Requirement not upgraded as not directly required: pandas>=0.23.0 in c:\\users\\aelsalla\\appdata\\local\\continuum\\anaconda3\\lib\\site-packages (from flex==0.1) (0.23.0)\n",
      "Requirement not upgraded as not directly required: numpy>=1.12.1 in c:\\users\\aelsalla\\appdata\\local\\continuum\\anaconda3\\lib\\site-packages (from flex==0.1) (1.12.1)\n",
      "Requirement not upgraded as not directly required: Keras>=2.2.2 in c:\\users\\aelsalla\\appdata\\local\\continuum\\anaconda3\\lib\\site-packages (from flex==0.1) (2.2.2)\n",
      "Requirement not upgraded as not directly required: scikit_learn>=0.21.2 in c:\\users\\aelsalla\\appdata\\local\\continuum\\anaconda3\\lib\\site-packages (from flex==0.1) (0.21.2)\n",
      "Requirement not upgraded as not directly required: PyYAML in c:\\users\\aelsalla\\appdata\\local\\continuum\\anaconda3\\lib\\site-packages (from flex==0.1) (3.12)\n",
      "Requirement not upgraded as not directly required: pytz>=2011k in c:\\users\\aelsalla\\appdata\\local\\continuum\\anaconda3\\lib\\site-packages (from pandas>=0.23.0->flex==0.1) (2018.4)\n",
      "Requirement not upgraded as not directly required: python-dateutil>=2.5.0 in c:\\users\\aelsalla\\appdata\\local\\continuum\\anaconda3\\lib\\site-packages (from pandas>=0.23.0->flex==0.1) (2.7.3)\n",
      "Requirement not upgraded as not directly required: scipy>=0.14 in c:\\users\\aelsalla\\appdata\\local\\continuum\\anaconda3\\lib\\site-packages (from Keras>=2.2.2->flex==0.1) (1.1.0)\n",
      "Requirement not upgraded as not directly required: h5py in c:\\users\\aelsalla\\appdata\\local\\continuum\\anaconda3\\lib\\site-packages (from Keras>=2.2.2->flex==0.1) (2.7.1)\n",
      "Requirement not upgraded as not directly required: keras-applications==1.0.4 in c:\\users\\aelsalla\\appdata\\local\\continuum\\anaconda3\\lib\\site-packages (from Keras>=2.2.2->flex==0.1) (1.0.4)\n",
      "Requirement not upgraded as not directly required: six>=1.9.0 in c:\\users\\aelsalla\\appdata\\local\\continuum\\anaconda3\\lib\\site-packages (from Keras>=2.2.2->flex==0.1) (1.11.0)\n",
      "Requirement not upgraded as not directly required: keras-preprocessing==1.0.2 in c:\\users\\aelsalla\\appdata\\local\\continuum\\anaconda3\\lib\\site-packages (from Keras>=2.2.2->flex==0.1) (1.0.2)\n",
      "Requirement not upgraded as not directly required: joblib>=0.11 in c:\\users\\aelsalla\\appdata\\local\\continuum\\anaconda3\\lib\\site-packages (from scikit_learn>=0.21.2->flex==0.1) (0.13.2)\n",
      "Building wheels for collected packages: flex\n",
      "  Running setup.py bdist_wheel for flex: started\n",
      "  Running setup.py bdist_wheel for flex: finished with status 'done'\n",
      "  Stored in directory: C:\\Users\\aelsalla\\AppData\\Local\\Temp\\pip-ephem-wheel-cache-k9jezgkk\\wheels\\d6\\f1\\36\\7786f7c4ce0260cb2ad257c0c562466f008d7257cee4b416c0\n",
      "Successfully built flex\n",
      "Installing collected packages: flex\n",
      "  Found existing installation: flex 0.1\n",
      "    Uninstalling flex-0.1:\n",
      "      Successfully uninstalled flex-0.1\n",
      "Successfully installed flex-0.1\n"
     ]
    },
    {
     "name": "stderr",
     "output_type": "stream",
     "text": [
      "tensorflow 1.9.0 has requirement numpy>=1.13.3, but you'll have numpy 1.12.1 which is incompatible.\n",
      "dvc 0.50.0 has requirement ruamel.yaml>=0.15.91, but you'll have ruamel-yaml 0.15.35 which is incompatible.\n",
      "You are using pip version 10.0.1, however version 19.1.1 is available.\n",
      "You should consider upgrading via the 'python -m pip install --upgrade pip' command.\n"
     ]
    }
   ],
   "source": [
    "!cd ..\\.. && pip install --upgrade ."
   ]
  },
  {
   "cell_type": "markdown",
   "metadata": {},
   "source": [
    "## Test installation"
   ]
  },
  {
   "cell_type": "code",
   "execution_count": 2,
   "metadata": {},
   "outputs": [],
   "source": [
    "import flex\n",
    "from flex.config import Configuration"
   ]
  },
  {
   "cell_type": "markdown",
   "metadata": {},
   "source": [
    "# Usage\n",
    "More use cases under tests/test_experiment.py\n",
    "\n",
    "## Log new experiment result\n",
    "In general any experiment is composed of:\n",
    "- meta_data: name, purpose, file, commit,...etc\n",
    "- config: mostly the hyperparameters, and any other configuration like the used features. For deep learning, config can be further divided into: data, model, optimizer, learning hyper parameters\n",
    "- results: metrics, best model file, comment,..etc\n",
    "\n"
   ]
  },
  {
   "cell_type": "markdown",
   "metadata": {},
   "source": [
    "\n",
    "Suppose all your previous records are in 'results_old.csv'.\n",
    "\n",
    "And now you want to log a new experiment."
   ]
  },
  {
   "cell_type": "code",
   "execution_count": 3,
   "metadata": {},
   "outputs": [],
   "source": [
    "%load_ext autoreload\n",
    "%autoreload 2"
   ]
  },
  {
   "cell_type": "code",
   "execution_count": 4,
   "metadata": {},
   "outputs": [
    {
     "name": "stderr",
     "output_type": "stream",
     "text": [
      "C:\\Users\\aelsalla\\AppData\\Local\\Continuum\\anaconda3\\lib\\site-packages\\flex\\config\\__init__.py:257: UserWarning: No old runs records given or unsupported type. It's OK if this is the first record or you will add later using from_csv or from_df. Otherwise, old records they will be overwritten\n",
      "  warnings.warn(UserWarning(\"No old runs records given or unsupported type. It's OK if this is the first record or you will add later using from_csv or from_df. Otherwise, old records they will be overwritten\"))\n"
     ]
    }
   ],
   "source": [
    "from flex.config import Configuration\n",
    "\n",
    "meta_data = {'name': 'experiment_1',\n",
    "            'purpose': 'test my awesome model',\n",
    "             'date': 'today',\n",
    "            }\n",
    "\n",
    "config_params = {'model_arch': '100-100-100',\n",
    "          'learning_rate': 0.0001,\n",
    "          'epochs': 2,\n",
    "          'optimizer': 'Adam',\n",
    "         }\n",
    "\n",
    "results = {'val_acc': 0.95, \n",
    "         'F1': 0.92,\n",
    "         'Comment': 'Best model'}\n",
    "\n",
    "experiment = Configuration(config=[meta_data, config_params, results], logs=None)"
   ]
  },
  {
   "cell_type": "markdown",
   "metadata": {},
   "source": [
    "__Note that__\n",
    "\n",
    "you can add or remove experiment parameters. In that case, if you add a parameter, old records will have NaN for those. If you delete some parameters, they will remain in the old records, but will be NaN in the new logged one.\n",
    "\n",
    "Now Write CSV of the results"
   ]
  },
  {
   "cell_type": "code",
   "execution_count": 5,
   "metadata": {},
   "outputs": [],
   "source": [
    "experiment.save_config('results.csv')"
   ]
  },
  {
   "cell_type": "markdown",
   "metadata": {},
   "source": [
    "Supported formats: \n",
    "- JSON\n",
    "- CSV\n",
    "- YAML\n",
    "- HTML\n",
    "- Pickle\n",
    "\n",
    "If you want to see the whole record:"
   ]
  },
  {
   "cell_type": "code",
   "execution_count": 6,
   "metadata": {},
   "outputs": [
    {
     "data": {
      "text/plain": [
       "name                      experiment_1\n",
       "purpose          test my awesome model\n",
       "date                             today\n",
       "model_arch                 100-100-100\n",
       "learning_rate                   0.0001\n",
       "epochs                               2\n",
       "optimizer                         Adam\n",
       "val_acc                           0.95\n",
       "F1                                0.92\n",
       "Comment                     Best model\n",
       "Name: 0, dtype: object"
      ]
     },
     "execution_count": 6,
     "metadata": {},
     "output_type": "execute_result"
    }
   ],
   "source": [
    "experiment.config"
   ]
  },
  {
   "cell_type": "markdown",
   "metadata": {},
   "source": [
    "## Alternatively, you could init the Experiment with the old records, and later log one or more experiment"
   ]
  },
  {
   "cell_type": "code",
   "execution_count": 17,
   "metadata": {},
   "outputs": [
    {
     "name": "stderr",
     "output_type": "stream",
     "text": [
      "C:\\Users\\aelsalla\\AppData\\Local\\Continuum\\anaconda3\\lib\\site-packages\\flex\\config\\__init__.py:237: UserWarning: Unsupported format of config passed. Empty data is initialized.\n",
      "  warnings.warn(UserWarning(\"Unsupported format of config passed. Empty data is initialized.\"))\n"
     ]
    }
   ],
   "source": [
    "from flex.config import Configuration\n",
    "\n",
    "# Load the old records\n",
    "experiment = Configuration(logs='results.csv')\n",
    "\n",
    "# TODO: Perform your experiment\n",
    "\n",
    "# Now log the new experiment data\n",
    "meta_data = {'name': 'experiment_2',\n",
    "            'purpose': 'test another awesome model',\n",
    "             'date': 'today',\n",
    "            }\n",
    "\n",
    "config_params = {'model_arch': '200-200-200',\n",
    "          'learning_rate': 0.0001,\n",
    "          'epochs': 2,\n",
    "          'optimizer': 'Adam',\n",
    "         }\n",
    "\n",
    "results = {'val_acc': 0.85, \n",
    "         'F1': 0.92,\n",
    "         'Comment': '2nd Best model'}\n",
    "\n",
    "experiment.config = [meta_data, config_params, results]\n",
    "\n",
    "# Export the whole result\n",
    "experiment.save_logs('results.csv')\n"
   ]
  },
  {
   "cell_type": "code",
   "execution_count": 18,
   "metadata": {},
   "outputs": [
    {
     "data": {
      "text/html": [
       "<div>\n",
       "<style scoped>\n",
       "    .dataframe tbody tr th:only-of-type {\n",
       "        vertical-align: middle;\n",
       "    }\n",
       "\n",
       "    .dataframe tbody tr th {\n",
       "        vertical-align: top;\n",
       "    }\n",
       "\n",
       "    .dataframe thead th {\n",
       "        text-align: right;\n",
       "    }\n",
       "</style>\n",
       "<table border=\"1\" class=\"dataframe\">\n",
       "  <thead>\n",
       "    <tr style=\"text-align: right;\">\n",
       "      <th></th>\n",
       "      <th>name</th>\n",
       "      <th>purpose</th>\n",
       "      <th>date</th>\n",
       "      <th>model_arch</th>\n",
       "      <th>learning_rate</th>\n",
       "      <th>epochs</th>\n",
       "      <th>optimizer</th>\n",
       "      <th>val_acc</th>\n",
       "      <th>F1</th>\n",
       "      <th>Comment</th>\n",
       "    </tr>\n",
       "  </thead>\n",
       "  <tbody>\n",
       "    <tr>\n",
       "      <th>0</th>\n",
       "      <td>experiment_1</td>\n",
       "      <td>test my awesome model</td>\n",
       "      <td>today</td>\n",
       "      <td>100-100-100</td>\n",
       "      <td>0.0001</td>\n",
       "      <td>2</td>\n",
       "      <td>Adam</td>\n",
       "      <td>0.95</td>\n",
       "      <td>0.92</td>\n",
       "      <td>Best model</td>\n",
       "    </tr>\n",
       "    <tr>\n",
       "      <th>1</th>\n",
       "      <td>experiment_19</td>\n",
       "      <td>test another awesome model</td>\n",
       "      <td>today</td>\n",
       "      <td>200-200-200</td>\n",
       "      <td>0.0001</td>\n",
       "      <td>2</td>\n",
       "      <td>Adam</td>\n",
       "      <td>0.85</td>\n",
       "      <td>0.92</td>\n",
       "      <td>2nd Best model</td>\n",
       "    </tr>\n",
       "    <tr>\n",
       "      <th>2</th>\n",
       "      <td>experiment_19</td>\n",
       "      <td>test another awesome model</td>\n",
       "      <td>today</td>\n",
       "      <td>200-200-200</td>\n",
       "      <td>0.0001</td>\n",
       "      <td>2</td>\n",
       "      <td>Adam</td>\n",
       "      <td>0.85</td>\n",
       "      <td>0.92</td>\n",
       "      <td>2nd Best model</td>\n",
       "    </tr>\n",
       "    <tr>\n",
       "      <th>3</th>\n",
       "      <td>experiment_19</td>\n",
       "      <td>test another awesome model</td>\n",
       "      <td>today</td>\n",
       "      <td>200-200-200</td>\n",
       "      <td>0.0001</td>\n",
       "      <td>2</td>\n",
       "      <td>Adam</td>\n",
       "      <td>0.85</td>\n",
       "      <td>0.92</td>\n",
       "      <td>2nd Best model</td>\n",
       "    </tr>\n",
       "    <tr>\n",
       "      <th>4</th>\n",
       "      <td>experiment_2</td>\n",
       "      <td>test another awesome model</td>\n",
       "      <td>today</td>\n",
       "      <td>200-200-200</td>\n",
       "      <td>0.0001</td>\n",
       "      <td>2</td>\n",
       "      <td>Adam</td>\n",
       "      <td>0.85</td>\n",
       "      <td>0.92</td>\n",
       "      <td>2nd Best model</td>\n",
       "    </tr>\n",
       "  </tbody>\n",
       "</table>\n",
       "</div>"
      ],
      "text/plain": [
       "            name                     purpose   date   model_arch  \\\n",
       "0   experiment_1       test my awesome model  today  100-100-100   \n",
       "1  experiment_19  test another awesome model  today  200-200-200   \n",
       "2  experiment_19  test another awesome model  today  200-200-200   \n",
       "3  experiment_19  test another awesome model  today  200-200-200   \n",
       "4   experiment_2  test another awesome model  today  200-200-200   \n",
       "\n",
       "   learning_rate  epochs optimizer  val_acc    F1         Comment  \n",
       "0         0.0001       2      Adam     0.95  0.92      Best model  \n",
       "1         0.0001       2      Adam     0.85  0.92  2nd Best model  \n",
       "2         0.0001       2      Adam     0.85  0.92  2nd Best model  \n",
       "3         0.0001       2      Adam     0.85  0.92  2nd Best model  \n",
       "4         0.0001       2      Adam     0.85  0.92  2nd Best model  "
      ]
     },
     "execution_count": 18,
     "metadata": {},
     "output_type": "execute_result"
    }
   ],
   "source": [
    "experiment.logs"
   ]
  },
  {
   "cell_type": "code",
   "execution_count": 19,
   "metadata": {},
   "outputs": [],
   "source": [
    "experiment.save_config('config.json')"
   ]
  },
  {
   "cell_type": "markdown",
   "metadata": {},
   "source": [
    "## You can init an emtpy experiment, or with a certain csv, and add or change the old records csv.\n",
    "\n",
    "__But in this case, the records will be modified not appended or updated.__"
   ]
  },
  {
   "cell_type": "code",
   "execution_count": 20,
   "metadata": {},
   "outputs": [
    {
     "name": "stderr",
     "output_type": "stream",
     "text": [
      "C:\\Users\\aelsalla\\AppData\\Local\\Continuum\\anaconda3\\lib\\site-packages\\flex\\config\\__init__.py:257: UserWarning: No old runs records given or unsupported type. It's OK if this is the first record or you will add later using from_csv or from_df. Otherwise, old records they will be overwritten\n",
      "  warnings.warn(UserWarning(\"No old runs records given or unsupported type. It's OK if this is the first record or you will add later using from_csv or from_df. Otherwise, old records they will be overwritten\"))\n",
      "C:\\Users\\aelsalla\\AppData\\Local\\Continuum\\anaconda3\\lib\\site-packages\\flex\\config\\__init__.py:237: UserWarning: Unsupported format of config passed. Empty data is initialized.\n",
      "  warnings.warn(UserWarning(\"Unsupported format of config passed. Empty data is initialized.\"))\n"
     ]
    }
   ],
   "source": [
    "from flex.config import Configuration\n",
    "# Init empty experiment\n",
    "experiment = Configuration() # or Experiment(csv_file=\"another_results.csv\")\n",
    "\n",
    "# Update with old logs\n",
    "experiment.load_logs(file='results.csv')\n",
    "\n",
    "# Load old config\n",
    "experiment.load_config(file='config.json')\n",
    "\n",
    "# Now you can save new logs with the new experiment appended.\n",
    "experiment.save_logs(file='results.csv')\n",
    "\n",
    " "
   ]
  },
  {
   "cell_type": "code",
   "execution_count": 22,
   "metadata": {},
   "outputs": [
    {
     "data": {
      "text/plain": [
       "Comment                      2nd Best model\n",
       "F1                                     0.92\n",
       "date             2019-07-07 14:30:41.150365\n",
       "epochs                                    2\n",
       "learning_rate                        0.0001\n",
       "model_arch                      200-200-200\n",
       "name                           experiment_2\n",
       "optimizer                              Adam\n",
       "purpose          test another awesome model\n",
       "val_acc                                0.85\n",
       "Name: 0, dtype: object"
      ]
     },
     "execution_count": 22,
     "metadata": {},
     "output_type": "execute_result"
    }
   ],
   "source": [
    "experiment.config"
   ]
  },
  {
   "cell_type": "code",
   "execution_count": 21,
   "metadata": {},
   "outputs": [
    {
     "data": {
      "text/html": [
       "<div>\n",
       "<style scoped>\n",
       "    .dataframe tbody tr th:only-of-type {\n",
       "        vertical-align: middle;\n",
       "    }\n",
       "\n",
       "    .dataframe tbody tr th {\n",
       "        vertical-align: top;\n",
       "    }\n",
       "\n",
       "    .dataframe thead th {\n",
       "        text-align: right;\n",
       "    }\n",
       "</style>\n",
       "<table border=\"1\" class=\"dataframe\">\n",
       "  <thead>\n",
       "    <tr style=\"text-align: right;\">\n",
       "      <th></th>\n",
       "      <th>name</th>\n",
       "      <th>purpose</th>\n",
       "      <th>date</th>\n",
       "      <th>model_arch</th>\n",
       "      <th>learning_rate</th>\n",
       "      <th>epochs</th>\n",
       "      <th>optimizer</th>\n",
       "      <th>val_acc</th>\n",
       "      <th>F1</th>\n",
       "      <th>Comment</th>\n",
       "    </tr>\n",
       "  </thead>\n",
       "  <tbody>\n",
       "    <tr>\n",
       "      <th>0</th>\n",
       "      <td>experiment_1</td>\n",
       "      <td>test my awesome model</td>\n",
       "      <td>today</td>\n",
       "      <td>100-100-100</td>\n",
       "      <td>0.0001</td>\n",
       "      <td>2</td>\n",
       "      <td>Adam</td>\n",
       "      <td>0.95</td>\n",
       "      <td>0.92</td>\n",
       "      <td>Best model</td>\n",
       "    </tr>\n",
       "    <tr>\n",
       "      <th>1</th>\n",
       "      <td>experiment_19</td>\n",
       "      <td>test another awesome model</td>\n",
       "      <td>today</td>\n",
       "      <td>200-200-200</td>\n",
       "      <td>0.0001</td>\n",
       "      <td>2</td>\n",
       "      <td>Adam</td>\n",
       "      <td>0.85</td>\n",
       "      <td>0.92</td>\n",
       "      <td>2nd Best model</td>\n",
       "    </tr>\n",
       "    <tr>\n",
       "      <th>2</th>\n",
       "      <td>experiment_19</td>\n",
       "      <td>test another awesome model</td>\n",
       "      <td>today</td>\n",
       "      <td>200-200-200</td>\n",
       "      <td>0.0001</td>\n",
       "      <td>2</td>\n",
       "      <td>Adam</td>\n",
       "      <td>0.85</td>\n",
       "      <td>0.92</td>\n",
       "      <td>2nd Best model</td>\n",
       "    </tr>\n",
       "    <tr>\n",
       "      <th>3</th>\n",
       "      <td>experiment_19</td>\n",
       "      <td>test another awesome model</td>\n",
       "      <td>today</td>\n",
       "      <td>200-200-200</td>\n",
       "      <td>0.0001</td>\n",
       "      <td>2</td>\n",
       "      <td>Adam</td>\n",
       "      <td>0.85</td>\n",
       "      <td>0.92</td>\n",
       "      <td>2nd Best model</td>\n",
       "    </tr>\n",
       "    <tr>\n",
       "      <th>4</th>\n",
       "      <td>experiment_2</td>\n",
       "      <td>test another awesome model</td>\n",
       "      <td>today</td>\n",
       "      <td>200-200-200</td>\n",
       "      <td>0.0001</td>\n",
       "      <td>2</td>\n",
       "      <td>Adam</td>\n",
       "      <td>0.85</td>\n",
       "      <td>0.92</td>\n",
       "      <td>2nd Best model</td>\n",
       "    </tr>\n",
       "    <tr>\n",
       "      <th>5</th>\n",
       "      <td>experiment_2</td>\n",
       "      <td>test another awesome model</td>\n",
       "      <td>2019-07-07 14:30:41.150365</td>\n",
       "      <td>200-200-200</td>\n",
       "      <td>0.0001</td>\n",
       "      <td>2</td>\n",
       "      <td>Adam</td>\n",
       "      <td>0.85</td>\n",
       "      <td>0.92</td>\n",
       "      <td>2nd Best model</td>\n",
       "    </tr>\n",
       "  </tbody>\n",
       "</table>\n",
       "</div>"
      ],
      "text/plain": [
       "            name                     purpose                        date  \\\n",
       "0   experiment_1       test my awesome model                       today   \n",
       "1  experiment_19  test another awesome model                       today   \n",
       "2  experiment_19  test another awesome model                       today   \n",
       "3  experiment_19  test another awesome model                       today   \n",
       "4   experiment_2  test another awesome model                       today   \n",
       "5   experiment_2  test another awesome model  2019-07-07 14:30:41.150365   \n",
       "\n",
       "    model_arch  learning_rate  epochs optimizer  val_acc    F1         Comment  \n",
       "0  100-100-100         0.0001       2      Adam     0.95  0.92      Best model  \n",
       "1  200-200-200         0.0001       2      Adam     0.85  0.92  2nd Best model  \n",
       "2  200-200-200         0.0001       2      Adam     0.85  0.92  2nd Best model  \n",
       "3  200-200-200         0.0001       2      Adam     0.85  0.92  2nd Best model  \n",
       "4  200-200-200         0.0001       2      Adam     0.85  0.92  2nd Best model  \n",
       "5  200-200-200         0.0001       2      Adam     0.85  0.92  2nd Best model  "
      ]
     },
     "execution_count": 21,
     "metadata": {},
     "output_type": "execute_result"
    }
   ],
   "source": [
    "experiment.logs"
   ]
  },
  {
   "cell_type": "markdown",
   "metadata": {},
   "source": [
    "## Other use cases\n",
    "\n",
    "- You can load old records from pandas.DataFrame instead of csv using orig_df in the Experiment constructor\n",
    "```\n",
    "df = pd.read_csv('results.old.csv')\n",
    "experiment = Experiment(orig_df=df)\n",
    "```\n",
    "\n",
    "- You can log experiment using yaml files, either in init or using ```from_yaml``` method\n",
    "\n"
   ]
  },
  {
   "cell_type": "markdown",
   "metadata": {},
   "source": [
    "# Known issues\n",
    "\n",
    "https://github.com/ahmadelsallab/logger/issues"
   ]
  },
  {
   "cell_type": "markdown",
   "metadata": {},
   "source": [
    "# Future developments\n",
    "- JSON Support\n",
    "- xlsx support\n",
    "- The model checkpoints\n",
    "- Different visualizations and curves\n",
    "- Upload the result file to gdrive for online updates and sharing\n"
   ]
  }
 ],
 "metadata": {
  "kernelspec": {
   "display_name": "Python 3",
   "language": "python",
   "name": "python3"
  },
  "language_info": {
   "codemirror_mode": {
    "name": "ipython",
    "version": 3
   },
   "file_extension": ".py",
   "mimetype": "text/x-python",
   "name": "python",
   "nbconvert_exporter": "python",
   "pygments_lexer": "ipython3",
   "version": "3.6.5"
  }
 },
 "nbformat": 4,
 "nbformat_minor": 2
}
